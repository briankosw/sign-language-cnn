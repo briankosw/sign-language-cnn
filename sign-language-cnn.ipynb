{
 "cells": [
  {
   "cell_type": "code",
   "execution_count": 2,
   "metadata": {},
   "outputs": [],
   "source": [
    "import numpy as np\n",
    "import matplotlib.pyplot as plt\n",
    "import seaborn as sns\n",
    "import pandas as pd\n",
    "import tensorflow as tf\n",
    "from PIL import Image\n",
    "import glob\n",
    "import os\n",
    "import re\n",
    "\n",
    "%matplotlib inline"
   ]
  },
  {
   "cell_type": "code",
   "execution_count": 3,
   "metadata": {},
   "outputs": [],
   "source": [
    "filepath = \"/data/asl_alphabet_{0}/\"\n",
    "cwd = os.getcwd()"
   ]
  },
  {
   "cell_type": "code",
   "execution_count": 19,
   "metadata": {},
   "outputs": [],
   "source": [
    "num_classes = 26\n",
    "batch_size = 117\n",
    "lr = 0.0001\n",
    "dropout = 0.5\n",
    "eps = 0.001"
   ]
  },
  {
   "cell_type": "markdown",
   "metadata": {},
   "source": [
    "# Data Exploration and Preprocessing"
   ]
  },
  {
   "cell_type": "code",
   "execution_count": 5,
   "metadata": {},
   "outputs": [],
   "source": [
    "def get_imagepaths(type=\"train\"):\n",
    "    imagepaths = []\n",
    "\n",
    "    for dir in glob.glob(cwd + filepath.format(type) + \"*/\"):\n",
    "        for imagepath in glob.glob(dir + \"*.jpg\"):\n",
    "            imagepaths.append(imagepath)\n",
    "    imagepaths = np.array(imagepaths)\n",
    "    np.random.shuffle(imagepaths)\n",
    "    return imagepaths"
   ]
  },
  {
   "cell_type": "code",
   "execution_count": 6,
   "metadata": {},
   "outputs": [],
   "source": [
    "def build_data(imagepaths):\n",
    "    data = []\n",
    "    for p in imagepaths:\n",
    "        label = re.search(r\"\\/([A-Z])\\/\", p).group(0)[1]\n",
    "        data.append((p, label))\n",
    "\n",
    "    return np.array(data)"
   ]
  },
  {
   "cell_type": "code",
   "execution_count": 7,
   "metadata": {},
   "outputs": [],
   "source": [
    "def train_val_split(imagepaths, val_amt):\n",
    "    data = build_data(imagepaths)\n",
    "    amt = data.shape[0]\n",
    "    train = data[:int(amt*(1-val_amt))]\n",
    "    val = data[int(amt*(1-val_amt)):]\n",
    "    \n",
    "    return train, val"
   ]
  },
  {
   "cell_type": "code",
   "execution_count": 8,
   "metadata": {},
   "outputs": [],
   "source": [
    "def _bytes_feature(value):\n",
    "    return tf.train.Feature(bytes_list=tf.train.BytesList(value=[value]))"
   ]
  },
  {
   "cell_type": "code",
   "execution_count": 9,
   "metadata": {},
   "outputs": [],
   "source": [
    "def create_tfrecord(data, type=\"train\"):\n",
    "    tfr_dir = \"/data/tfrecords/\"\n",
    "    if not os.path.exists(cwd + tfr_dir):\n",
    "        os.makedirs(cwd + tfr_dir)\n",
    "    tfr_filename = \"{0}.tfrecords\".format(type)\n",
    "    if os.path.isfile(cwd + tfr_dir + tfr_filename):\n",
    "        os.remove(cwd + tfr_dir + tfr_filename)\n",
    "    writer = tf.python_io.TFRecordWriter(cwd + tfr_dir + tfr_filename)\n",
    "    \n",
    "    for i, p in enumerate(data):\n",
    "        feature = {\n",
    "            \"train/image\": _bytes_feature(p[0].encode()),\n",
    "            \"train/label\": _bytes_feature(p[1].encode())\n",
    "        }\n",
    "\n",
    "        example = tf.train.Example(features=tf.train.Features(feature=feature))\n",
    "        writer.write(example.SerializeToString())\n",
    "            \n",
    "    print(tfr_filename + \" Complete\")\n",
    "    writer.close()"
   ]
  },
  {
   "cell_type": "code",
   "execution_count": 10,
   "metadata": {
    "scrolled": true
   },
   "outputs": [
    {
     "name": "stdout",
     "output_type": "stream",
     "text": [
      "Train data size: 70200\n",
      "Validation data size: 7800\n",
      "train.tfrecords Complete\n",
      "validation.tfrecords Complete\n"
     ]
    }
   ],
   "source": [
    "imagepaths = get_imagepaths(\"train\")\n",
    "train, val = train_val_split(imagepaths, 0.1)\n",
    "print(\"Train data size: {0}\".format(train.shape[0]))\n",
    "print(\"Validation data size: {0}\".format(val.shape[0]))\n",
    "create_tfrecord(train, \"train\")\n",
    "create_tfrecord(val, \"validation\")"
   ]
  },
  {
   "cell_type": "code",
   "execution_count": 11,
   "metadata": {},
   "outputs": [],
   "source": [
    "X = tf.placeholder(tf.float32, [None, 30, 30, 3], name=\"input\")\n",
    "Y = tf.placeholder(tf.int32, [None, num_classes], name=\"output\")\n",
    "lr = tf.placeholder(tf.float64, name=\"learning_rate\")\n",
    "batch = tf.placeholder(tf.int64, name=\"batch_size\")\n",
    "train_filepath = tf.placeholder(tf.string, name=\"train_filepath\")\n",
    "val_filepath = tf.placeholder(tf.string, name=\"val_filepath\")"
   ]
  },
  {
   "cell_type": "code",
   "execution_count": 12,
   "metadata": {},
   "outputs": [],
   "source": [
    "def setup_datasets():\n",
    "    train_dataset = tf.data.TFRecordDataset(train_filepath)\n",
    "    train_dataset = train_dataset.batch(batch)\n",
    "    val_dataset = tf.data.TFRecordDataset(val_filepath)\n",
    "    \n",
    "    iterator = tf.data.Iterator.from_structure(train_dataset.output_types,\n",
    "                                               train_dataset.output_shapes)\n",
    "    \n",
    "    next_elem = iterator.get_next()\n",
    "    train_iter = train_dataset.make_initializable_iterator()\n",
    "    val_iter = val_dataset.make_initializable_iterator()"
   ]
  },
  {
   "cell_type": "code",
   "execution_count": 13,
   "metadata": {},
   "outputs": [],
   "source": [
    "def conv_layer(input, size_in, size_out, k_size, name):\n",
    "    with tf.variable_scope(name) as scope:\n",
    "        weights = tf.get_variable(\"weights\", shape=[k_size, k_size, size_in, size_out])\n",
    "        biases = tf.get_variable(\"biases\", shape=[size_out], initializer=tf.constant_initializer(0.0))\n",
    "        conv = tf.nn.conv2d(input, weights, strides=[1,1,1,1], padding=\"SAME\")\n",
    "        conv = tf.bias_add(conv, biases)\n",
    "        act = tf.nn.relu(conv, scope.name)\n",
    "        \n",
    "        tf.summary.histogram(\"weights\", weights)\n",
    "        tf.summary.histogram(\"biases\", biases)\n",
    "        tf.summary.histogram(\"activations\", act)\n",
    "        \n",
    "    return act\n",
    "\n",
    "def batch_norm_layer(input, eps, name):\n",
    "    with tf.variable_scope(name) as scope:\n",
    "        gamma = tf.get_variable(\"gamma\", shape=[input.shape[0]], initializer=tf.constant_initializer(1.0))\n",
    "        beta = tf.get_variable(\"beta\", shape=[input.shape[0]], initializer=tf.constant_initializer(0.0))\n",
    "        mean, var = tf.nn.moments(input, [0])\n",
    "        bn = tf.nn.batch_normalization(input, mean, var, gamma, beta, eps)\n",
    "        \n",
    "        tf.summary.histogram(\"gamma\", gamma)\n",
    "        tf.summary.histogram(\"beta\", beta)\n",
    "        \n",
    "    return bn\n",
    "        \n",
    "def dropout_layer(input, dropout):\n",
    "    do = tf.nn.dropout(input, dropout)\n",
    "    \n",
    "    return do\n",
    "\n",
    "def maxpool_layer(input, name):\n",
    "    return tf.nn.max_pool(input, ksize=[1,2,2,1], strides=[1,2,2,1], padding=\"SAME\", name=name)\n",
    "\n",
    "def fc_layer(input, size_in, size_out, name):\n",
    "    with tf.variable_scope(name) as scope:\n",
    "        reshape = tf.reshape(input, shape=[-1, size_in])\n",
    "        weights = tf.get_variable(\"weights\", shape=[size_in, size_out])\n",
    "        biases = tf.get_variable(\"biases\", shape=[size_out])\n",
    "        act = tf.matmul(reshape, weights) + biases\n",
    "        \n",
    "        tf.summary.histogram(\"weights\", weights)\n",
    "        tf.summary.histogram(\"biases\", biases)\n",
    "        tf.summary.histogram(\"activations\", act)\n",
    "        \n",
    "    return act"
   ]
  },
  {
   "cell_type": "code",
   "execution_count": null,
   "metadata": {},
   "outputs": [],
   "source": [
    "def model(X, dropout):\n",
    "    conv1 = conv_layer(X, 3, 64, 3, \"conv1\")\n",
    "    bn1 = batch_norm_layer(conv1, eps, \"bn1\")\n",
    "    conv2 = conv_layer(bn1, 64, 64, 3, \"conv2\")\n",
    "    bn1 = batch_norm_layer()"
   ]
  },
  {
   "cell_type": "code",
   "execution_count": 18,
   "metadata": {},
   "outputs": [],
   "source": [
    "def loss(logits, labels):\n",
    "    with tf.name_scope(\"loss\"):\n",
    "        labels = tf.cast(labels, tf.int64)\n",
    "        cross_entropy = tf.nn.softmax_cross_entropy_with_logits_v2(logits=logits, labels=labels)\n",
    "        cross_entropy_mean = tf.reduce_mean(cross_entropy, name=\"cross_entropy\")\n",
    "\n",
    "        tf.summary.scalar(\"cross entropy\", cross_entropy_mean)\n",
    "        \n",
    "    return cross_entropy_mean"
   ]
  },
  {
   "cell_type": "code",
   "execution_count": 15,
   "metadata": {},
   "outputs": [
    {
     "ename": "NameError",
     "evalue": "name 'cross_entropy_mean' is not defined",
     "output_type": "error",
     "traceback": [
      "\u001b[0;31m---------------------------------------------------------------------------\u001b[0m",
      "\u001b[0;31mNameError\u001b[0m                                 Traceback (most recent call last)",
      "\u001b[0;32m<ipython-input-15-4087280ee903>\u001b[0m in \u001b[0;36m<module>\u001b[0;34m()\u001b[0m\n\u001b[1;32m      1\u001b[0m \u001b[0;32mwith\u001b[0m \u001b[0mtf\u001b[0m\u001b[0;34m.\u001b[0m\u001b[0mname_scope\u001b[0m\u001b[0;34m(\u001b[0m\u001b[0;34m\"train\"\u001b[0m\u001b[0;34m)\u001b[0m\u001b[0;34m:\u001b[0m\u001b[0;34m\u001b[0m\u001b[0m\n\u001b[0;32m----> 2\u001b[0;31m     \u001b[0mtrain_step\u001b[0m \u001b[0;34m=\u001b[0m \u001b[0mtf\u001b[0m\u001b[0;34m.\u001b[0m\u001b[0mtrain\u001b[0m\u001b[0;34m.\u001b[0m\u001b[0mAdamOptimizer\u001b[0m\u001b[0;34m(\u001b[0m\u001b[0mlearning_rate\u001b[0m\u001b[0;34m=\u001b[0m\u001b[0mlr\u001b[0m\u001b[0;34m)\u001b[0m\u001b[0;34m.\u001b[0m\u001b[0mminimize\u001b[0m\u001b[0;34m(\u001b[0m\u001b[0mcross_entropy_mean\u001b[0m\u001b[0;34m)\u001b[0m\u001b[0;34m\u001b[0m\u001b[0m\n\u001b[0m",
      "\u001b[0;31mNameError\u001b[0m: name 'cross_entropy_mean' is not defined"
     ]
    }
   ],
   "source": [
    "with tf.name_scope(\"train\"):\n",
    "    train_step = tf.train.AdamOptimizer(learning_rate=lr).minimize(loss())"
   ]
  },
  {
   "cell_type": "code",
   "execution_count": null,
   "metadata": {},
   "outputs": [],
   "source": [
    "with tf.name_scope(\"accuracy\"):\n",
    "    correct_pred = tf.equal(tf.argmax(logits, 1), tf.argmax(y, 1))\n",
    "    accuracy = tf.reduce_mean(tf.cast(correct_pred, tf.float32))\n",
    "    \n",
    "    tf.summary.scalar(\"accuracy\", accuracy)"
   ]
  }
 ],
 "metadata": {
  "kernelspec": {
   "display_name": "Python 3",
   "language": "python",
   "name": "python3"
  },
  "language_info": {
   "codemirror_mode": {
    "name": "ipython",
    "version": 3
   },
   "file_extension": ".py",
   "mimetype": "text/x-python",
   "name": "python",
   "nbconvert_exporter": "python",
   "pygments_lexer": "ipython3",
   "version": "3.6.5"
  }
 },
 "nbformat": 4,
 "nbformat_minor": 2
}
