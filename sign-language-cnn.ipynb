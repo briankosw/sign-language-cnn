{
 "cells": [
  {
   "cell_type": "code",
   "execution_count": 2,
   "metadata": {},
   "outputs": [],
   "source": [
    "from tqdm import tqdm_notebook as tqdm\n",
    "import numpy as np\n",
    "import matplotlib.pyplot as plt\n",
    "import seaborn as sns\n",
    "import pandas as pd\n",
    "import tensorflow as tf\n",
    "from PIL import Image\n",
    "import glob\n",
    "import os\n",
    "import re\n",
    "import multiprocessing\n",
    "\n",
    "%matplotlib inline"
   ]
  },
  {
   "cell_type": "code",
   "execution_count": 3,
   "metadata": {},
   "outputs": [],
   "source": [
    "filepath = \"/data/asl_alphabet_{0}/\"\n",
    "cwd = os.getcwd()"
   ]
  },
  {
   "cell_type": "code",
   "execution_count": 4,
   "metadata": {},
   "outputs": [],
   "source": [
    "num_classes = 26\n",
    "batch_size = 117\n",
    "train_size = 70200\n",
    "val_size = 7800"
   ]
  },
  {
   "cell_type": "markdown",
   "metadata": {},
   "source": [
    "# Data Exploration and Preprocessing"
   ]
  },
  {
   "cell_type": "code",
   "execution_count": 5,
   "metadata": {},
   "outputs": [],
   "source": [
    "def get_imagepaths(type=\"train\"):\n",
    "    imagepaths = []\n",
    "\n",
    "    for dir in glob.glob(cwd + filepath.format(type) + \"*/\"):\n",
    "        for imagepath in glob.glob(dir + \"*.jpg\"):\n",
    "            imagepaths.append(imagepath)\n",
    "    imagepaths = np.array(imagepaths)\n",
    "    np.random.shuffle(imagepaths)\n",
    "    \n",
    "    return imagepaths"
   ]
  },
  {
   "cell_type": "code",
   "execution_count": 6,
   "metadata": {},
   "outputs": [],
   "source": [
    "def build_data(imagepaths):\n",
    "    data = []\n",
    "    for p in imagepaths:\n",
    "        label = re.search(r\"\\/([A-Z])\\/\", p).group(0)[1]\n",
    "        label = int(ord(label) - ord(\"A\"))\n",
    "        data.append((p, label))\n",
    "\n",
    "    return np.array(data, dtype=object)"
   ]
  },
  {
   "cell_type": "code",
   "execution_count": 7,
   "metadata": {},
   "outputs": [],
   "source": [
    "def train_val_split(imagepaths, val_amt):\n",
    "    data = build_data(imagepaths)\n",
    "    amt = data.shape[0]\n",
    "    train = data[:int(amt*(1-val_amt))]\n",
    "    val = data[int(amt*(1-val_amt)):]\n",
    "    \n",
    "    return train, val"
   ]
  },
  {
   "cell_type": "code",
   "execution_count": 8,
   "metadata": {},
   "outputs": [],
   "source": [
    "def create_tfrecord(data, type=\"train\"):\n",
    "    np.random.shuffle(data)\n",
    "    tfr_dir = \"/data/tfrecords/\"\n",
    "    if not os.path.exists(cwd + tfr_dir):\n",
    "        os.makedirs(cwd + tfr_dir)\n",
    "    tfr_filename = \"{0}.tfrecords\".format(type)\n",
    "    if os.path.isfile(cwd + tfr_dir + tfr_filename):\n",
    "        os.remove(cwd + tfr_dir + tfr_filename)\n",
    "    writer = tf.python_io.TFRecordWriter(cwd + tfr_dir + tfr_filename)\n",
    "    \n",
    "    def _bytes_feature(value):\n",
    "        return tf.train.Feature(bytes_list=tf.train.BytesList(value=[value]))\n",
    "    \n",
    "    def _int64_feature(value):\n",
    "        return tf.train.Feature(int64_list=tf.train.Int64List(value=[value]))\n",
    "    \n",
    "    for p in data:\n",
    "        feature = {\n",
    "            \"image\": _bytes_feature(tf.compat.as_bytes(p[0])),\n",
    "            \"label\": _int64_feature(p[1])\n",
    "        }\n",
    "\n",
    "        example = tf.train.Example(features=tf.train.Features(feature=feature))\n",
    "        writer.write(example.SerializeToString())\n",
    "            \n",
    "    print(tfr_filename + \" Complete\")\n",
    "    writer.close()\n",
    "    \n",
    "    return cwd + tfr_dir + tfr_filename"
   ]
  },
  {
   "cell_type": "code",
   "execution_count": 9,
   "metadata": {},
   "outputs": [],
   "source": [
    "def _parse(protos):\n",
    "    features = {\"image\": tf.FixedLenFeature((), tf.string, default_value=\"\"),\n",
    "                \"label\": tf.FixedLenFeature((), tf.int64, default_value=0)}\n",
    "    parsed_features = tf.parse_example(protos, features)\n",
    "    \n",
    "    def decode(image_files):\n",
    "        return tf.image.decode_jpeg(image_files, channels=3)\n",
    "    \n",
    "    image_files = tf.map_fn(tf.read_file, parsed_features[\"image\"])\n",
    "    images = tf.map_fn(decode, image_files, dtype=tf.uint8)\n",
    "    labels = parsed_features[\"label\"]\n",
    "    \n",
    "    return images, labels"
   ]
  },
  {
   "cell_type": "code",
   "execution_count": 10,
   "metadata": {},
   "outputs": [],
   "source": [
    "def conv_layer(input, size_in, size_out, k_size, name):\n",
    "    with tf.variable_scope(name) as scope:\n",
    "        weights = tf.get_variable(\"weights\", shape=[k_size, k_size, size_in, size_out])\n",
    "        biases = tf.get_variable(\"biases\", shape=[size_out], initializer=tf.constant_initializer(0.0))\n",
    "        conv = tf.nn.conv2d(input, weights, strides=[1,1,1,1], padding=\"SAME\")\n",
    "        conv = tf.nn.bias_add(conv, biases)\n",
    "        act = tf.nn.relu(conv, scope.name)\n",
    "        \n",
    "        tf.summary.histogram(\"weights\", weights)\n",
    "        tf.summary.histogram(\"biases\", biases)\n",
    "        tf.summary.histogram(\"activations\", act)\n",
    "        \n",
    "    return act\n",
    "\n",
    "def batch_norm_layer(input, is_training, eps, name):\n",
    "    with tf.variable_scope(name) as scope:\n",
    "        gamma = tf.get_variable(\"gamma\", shape=[input.shape[0]], initializer=tf.constant_initializer(1.0))\n",
    "        beta = tf.get_variable(\"beta\", shape=[input.shape[0]], initializer=tf.constant_initializer(0.0))\n",
    "        mean, var = tf.nn.moments(input, [0,1,2])\n",
    "        ema = tf.nn.ExponentialMovingAverage(decay=0.99)\n",
    "        \n",
    "        def mean_var_with_update():\n",
    "            ema_apply_op = ema.apply([mean, var])\n",
    "            with tf.control_dependencies([ema_apply_op]):\n",
    "                return tf.identity(mean), tf.identity(var)\n",
    "            \n",
    "        mean, var = tf.cond(is_training, mean_var_with_update, lambda: (ema.average(mean), ema.average(var)))\n",
    "        bn = tf.nn.batch_normalization(input, mean, var, gamma, beta, eps)\n",
    "        \n",
    "        tf.summary.histogram(\"gamma\", gamma)\n",
    "        tf.summary.histogram(\"beta\", beta)\n",
    "        \n",
    "    return bn\n",
    "        \n",
    "def dropout_layer(input, dropout):\n",
    "    do = tf.nn.dropout(input, dropout)\n",
    "    \n",
    "    return do\n",
    "\n",
    "def maxpool_layer(input, name):\n",
    "    return tf.nn.max_pool(input, ksize=[1,2,2,1], strides=[1,2,2,1], padding=\"SAME\", name=name)\n",
    "\n",
    "def fc_layer(input, size_in, size_out, name):\n",
    "    with tf.variable_scope(name) as scope:\n",
    "        weights = tf.get_variable(\"weights\", shape=[size_in, size_out])\n",
    "        biases = tf.get_variable(\"biases\", shape=[size_out])\n",
    "        act = tf.matmul(input, weights) + biases\n",
    "        \n",
    "        tf.summary.histogram(\"weights\", weights)\n",
    "        tf.summary.histogram(\"biases\", biases)\n",
    "        tf.summary.histogram(\"activations\", act)\n",
    "        \n",
    "    return act"
   ]
  },
  {
   "cell_type": "code",
   "execution_count": 11,
   "metadata": {},
   "outputs": [],
   "source": [
    "def model(X, dropout):\n",
    "    \n",
    "    tf.summary.image(\"input\", X, 10)\n",
    "\n",
    "    conv1 = conv_layer(X, 3, 32, 3, \"conv1\")\n",
    "    conv2 = conv_layer(conv1, 32, 32, 3, \"conv2\")\n",
    "    maxpool1 = maxpool_layer(conv2, \"maxpool1\")\n",
    "    conv3 = conv_layer(maxpool1, 32, 32, 3, \"conv3\")\n",
    "    conv4 = conv_layer(conv3, 32, 32, 3, \"conv4\")\n",
    "    maxpool2 = maxpool_layer(conv4, \"maxpool2\")\n",
    "    conv5 = conv_layer(maxpool2, 32, 32, 3, \"conv5\")\n",
    "    conv6 = conv_layer(conv5, 32, 32, 3, \"conv6\")\n",
    "    maxpool3 = maxpool_layer(conv6, \"maxpool3\")\n",
    "    flatten = tf.reshape(maxpool3, shape=[-1, tf.reduce_prod(maxpool3.shape[1:])])\n",
    "    fc1 = fc_layer(flatten, 20000, 256, \"fc1\")\n",
    "    dropout1 = dropout_layer(fc1, dropout)\n",
    "    fc2 = fc_layer(dropout1, dropout1.shape[1], 256, \"fc2\")\n",
    "    dropout2 = dropout_layer(fc2, dropout)\n",
    "    fc3 = fc_layer(dropout2, dropout2.shape[1], 26, \"fc3\")\n",
    "\n",
    "    return fc3"
   ]
  },
  {
   "cell_type": "code",
   "execution_count": 12,
   "metadata": {},
   "outputs": [],
   "source": [
    "def loss(logits, labels):\n",
    "    with tf.name_scope(\"loss\"):\n",
    "        labels = tf.cast(labels, tf.int64)\n",
    "        cross_entropy = tf.nn.softmax_cross_entropy_with_logits_v2(logits=logits, labels=labels)\n",
    "        cross_entropy_mean = tf.reduce_mean(cross_entropy, name=\"cross_entropy\")\n",
    "\n",
    "    tf.summary.scalar(\"cross_entropy\", cross_entropy_mean)\n",
    "        \n",
    "    return cross_entropy_mean"
   ]
  },
  {
   "cell_type": "code",
   "execution_count": 13,
   "metadata": {},
   "outputs": [],
   "source": [
    "def training(loss, learning_rate):\n",
    "    with tf.name_scope(\"training\"):\n",
    "        optimizer = tf.train.AdamOptimizer(learning_rate=learning_rate)\n",
    "        global_step = tf.Variable(0, name=\"global_step\", trainable=False)\n",
    "        train_op = optimizer.minimize(loss, global_step=global_step)\n",
    "\n",
    "    return train_op"
   ]
  },
  {
   "cell_type": "code",
   "execution_count": 14,
   "metadata": {},
   "outputs": [],
   "source": [
    "def evaluation(y_pred, y):\n",
    "    correct = tf.equal(tf.argmax(tf.nn.softmax(y_pred), 1), tf.argmax(y, 1))\n",
    "    accuracy = tf.reduce_mean(tf.cast(correct, tf.float32))\n",
    "    \n",
    "    tf.summary.scalar(\"accuracy\", accuracy)\n",
    "    \n",
    "    return accuracy"
   ]
  },
  {
   "cell_type": "code",
   "execution_count": 15,
   "metadata": {},
   "outputs": [],
   "source": [
    "imagepaths = get_imagepaths(\"train\")\n",
    "train, val = train_val_split(imagepaths, 0.1)\n",
    "train_filepath = tf.placeholder(tf.string, name=\"train_filepath\")\n",
    "val_filepath = tf.placeholder(tf.string, name=\"val_filepath\")\n",
    "\n",
    "train_dataset = tf.data.TFRecordDataset(train_filepath)\n",
    "train_dataset = train_dataset.shuffle(70200)\n",
    "train_dataset = train_dataset.batch(117).map(_parse)\n",
    "train_dataset = train_dataset.shuffle(117)\n",
    "train_dataset = train_dataset.prefetch(2)\n",
    "\n",
    "val_dataset = tf.data.TFRecordDataset(val_filepath)\n",
    "val_dataset = val_dataset.shuffle(7800)\n",
    "val_dataset = val_dataset.batch(100).map(_parse)\n",
    "val_dataset = val_dataset.shuffle(100)\n",
    "val_dataset = val_dataset.prefetch(2)\n",
    "\n",
    "train_iter = train_dataset.make_initializable_iterator()\n",
    "val_iter = val_dataset.make_initializable_iterator()\n",
    "next_train = train_iter.get_next()\n",
    "next_val = val_iter.get_next()\n",
    "\n",
    "X = tf.placeholder(tf.float32, shape=[None, 200, 200, 3], name=\"X\")\n",
    "Y = tf.placeholder(tf.int64 , shape=[None, num_classes], name=\"Y\")\n",
    "keep_prob = tf.placeholder(tf.float32, name=\"keep_prob\")\n",
    "logits = model(X, keep_prob)\n",
    "loss = loss(logits, Y)\n",
    "train_op = training(loss, 0.0001)\n",
    "accuracy = evaluation(logits, Y)"
   ]
  },
  {
   "cell_type": "code",
   "execution_count": null,
   "metadata": {
    "scrolled": true
   },
   "outputs": [
    {
     "name": "stdout",
     "output_type": "stream",
     "text": [
      "train.tfrecords Complete\n",
      "val.tfrecords Complete\n"
     ]
    },
    {
     "data": {
      "application/vnd.jupyter.widget-view+json": {
       "model_id": "1b9be2debe03403d988b2e6d299cf92a",
       "version_major": 2,
       "version_minor": 0
      },
      "text/plain": [
       "HBox(children=(IntProgress(value=0, max=600), HTML(value='')))"
      ]
     },
     "metadata": {},
     "output_type": "display_data"
    },
    {
     "name": "stdout",
     "output_type": "stream",
     "text": [
      "Epoch: 0, Training Loss: 2.7289855527877807,  Training Accuracy: 0.006666666995733976. Validation Loss: 1542.7453970297788, Validation Accuracy: 2.6923076512339787\n"
     ]
    },
    {
     "data": {
      "application/vnd.jupyter.widget-view+json": {
       "model_id": "1e78f5c92bab46438e1717a6f4ab382e",
       "version_major": 2,
       "version_minor": 0
      },
      "text/plain": [
       "HBox(children=(IntProgress(value=0, max=600), HTML(value='')))"
      ]
     },
     "metadata": {},
     "output_type": "display_data"
    },
    {
     "name": "stdout",
     "output_type": "stream",
     "text": [
      "Epoch: 1, Training Loss: 2.3905966472625733,  Training Accuracy: 0.008333333563059568. Validation Loss: 1293.9374349056145, Validation Accuracy: 3.4743589205810657\n"
     ]
    },
    {
     "data": {
      "application/vnd.jupyter.widget-view+json": {
       "model_id": "c6aa92f446614fbeb1fdac7226525641",
       "version_major": 2,
       "version_minor": 0
      },
      "text/plain": [
       "HBox(children=(IntProgress(value=0, max=600), HTML(value='')))"
      ]
     },
     "metadata": {},
     "output_type": "display_data"
    },
    {
     "name": "stdout",
     "output_type": "stream",
     "text": [
      "Epoch: 2, Training Loss: 1.9765664291381837,  Training Accuracy: 0.013333333991467952. Validation Loss: 1085.1797201694587, Validation Accuracy: 4.564102524175094\n"
     ]
    },
    {
     "data": {
      "application/vnd.jupyter.widget-view+json": {
       "model_id": "aeda774985b84603a4332e06cd88d270",
       "version_major": 2,
       "version_minor": 0
      },
      "text/plain": [
       "HBox(children=(IntProgress(value=0, max=600), HTML(value='')))"
      ]
     },
     "metadata": {},
     "output_type": "display_data"
    },
    {
     "name": "stdout",
     "output_type": "stream",
     "text": [
      "Epoch: 3, Training Loss: 1.5744908809661866,  Training Accuracy: 0.011666666697710753. Validation Loss: 871.3565153953357, Validation Accuracy: 3.9358973909073915\n"
     ]
    },
    {
     "data": {
      "application/vnd.jupyter.widget-view+json": {
       "model_id": "21eca8fca54a4a96a5e5a6145a3a7296",
       "version_major": 2,
       "version_minor": 0
      },
      "text/plain": [
       "HBox(children=(IntProgress(value=0, max=600), HTML(value='')))"
      ]
     },
     "metadata": {},
     "output_type": "display_data"
    }
   ],
   "source": [
    "with tf.Session() as sess:\n",
    "    train_fp = create_tfrecord(train, \"train\")\n",
    "    val_fp = create_tfrecord(val, \"val\")\n",
    "    sess.run(tf.global_variables_initializer())\n",
    "    train_writer = tf.summary.FileWriter(cwd + \"/checkpoints/train\", sess.graph)\n",
    "    val_writer = tf.summary.FileWriter(cwd + \"/checkpoints/val\", sess.graph)\n",
    "    summary = tf.summary.merge_all()\n",
    "    \n",
    "    for e in range(10):\n",
    "        sess.run(train_iter.initializer, feed_dict={train_filepath: train_fp})\n",
    "        train_l, train_acc = 0, 0\n",
    "        pbar = tqdm(total=600)\n",
    "        for step in range(600):\n",
    "            images, labels = sess.run(next_train)\n",
    "            labels = tf.keras.utils.to_categorical(labels, num_classes)\n",
    "            sess.run(train_op, feed_dict={X: images, Y: labels, keep_prob: 0.5})\n",
    "            l, acc, s = sess.run([loss, accuracy, summary], feed_dict={X: images, Y: labels, keep_prob: 1.0})\n",
    "            train_writer.add_summary(s, e*600 + step)\n",
    "            train_l += l * 117\n",
    "            train_acc += acc * 117\n",
    "            pbar.update(1)\n",
    "            break\n",
    "        pbar.close()\n",
    "        \n",
    "        sess.run(val_iter.initializer, feed_dict={val_filepath: val_fp})\n",
    "        val_l, val_acc = 0, 0\n",
    "        for step in range(78):\n",
    "            images, labels = sess.run(next_val)\n",
    "            labels = tf.keras.utils.to_categorical(labels, num_classes)\n",
    "            l, acc, s = sess.run([loss, accuracy, summary], feed_dict={X: images, Y: labels, keep_prob: 1.0})\n",
    "            val_writer.add_summary(s, e*600+step)\n",
    "            val_l += l * 100\n",
    "            val_acc += acc * 100\n",
    "        print(\"Epoch: {0}, Training Loss: {1},  Training Accuracy: {2}. Validation Loss: {3}, Validation Accuracy: {4}\"\n",
    "              .format(e, train_l/600, train_acc/600, val_l/78, val_acc/78))\n",
    "        "
   ]
  },
  {
   "cell_type": "code",
   "execution_count": null,
   "metadata": {},
   "outputs": [],
   "source": []
  }
 ],
 "metadata": {
  "kernelspec": {
   "display_name": "Python 3",
   "language": "python",
   "name": "python3"
  },
  "language_info": {
   "codemirror_mode": {
    "name": "ipython",
    "version": 3
   },
   "file_extension": ".py",
   "mimetype": "text/x-python",
   "name": "python",
   "nbconvert_exporter": "python",
   "pygments_lexer": "ipython3",
   "version": "3.6.5"
  }
 },
 "nbformat": 4,
 "nbformat_minor": 2
}
