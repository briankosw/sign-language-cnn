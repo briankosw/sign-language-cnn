{
 "cells": [
  {
   "cell_type": "code",
   "execution_count": 1,
   "metadata": {},
   "outputs": [
    {
     "name": "stderr",
     "output_type": "stream",
     "text": [
      "/Users/BrianKo/anaconda3/lib/python3.6/site-packages/h5py/__init__.py:34: FutureWarning: Conversion of the second argument of issubdtype from `float` to `np.floating` is deprecated. In future, it will be treated as `np.float64 == np.dtype(float).type`.\n",
      "  from ._conv import register_converters as _register_converters\n"
     ]
    }
   ],
   "source": [
    "import numpy as np\n",
    "import matplotlib.pyplot as plt\n",
    "import seaborn as sns\n",
    "import pandas as pd\n",
    "import tensorflow as tf\n",
    "from PIL import Image\n",
    "import glob\n",
    "import os\n",
    "import re\n",
    "\n",
    "%matplotlib inline"
   ]
  },
  {
   "cell_type": "code",
   "execution_count": 2,
   "metadata": {
    "collapsed": true
   },
   "outputs": [],
   "source": [
    "filepath = \"/data/asl_alphabet_{0}/\"\n",
    "cwd = os.getcwd()"
   ]
  },
  {
   "cell_type": "code",
   "execution_count": 3,
   "metadata": {
    "collapsed": true
   },
   "outputs": [],
   "source": [
    "num_classes = 26\n",
    "batch_size = 117\n",
    "train_size = 70200\n",
    "val_size = 7800"
   ]
  },
  {
   "cell_type": "markdown",
   "metadata": {},
   "source": [
    "# Data Exploration and Preprocessing"
   ]
  },
  {
   "cell_type": "code",
   "execution_count": 4,
   "metadata": {
    "collapsed": true
   },
   "outputs": [],
   "source": [
    "def get_imagepaths(type=\"train\"):\n",
    "    imagepaths = []\n",
    "\n",
    "    for dir in glob.glob(cwd + filepath.format(type) + \"*/\"):\n",
    "        for imagepath in glob.glob(dir + \"*.jpg\"):\n",
    "            imagepaths.append(imagepath)\n",
    "    imagepaths = np.array(imagepaths)\n",
    "    np.random.shuffle(imagepaths)\n",
    "    \n",
    "    return imagepaths"
   ]
  },
  {
   "cell_type": "code",
   "execution_count": 5,
   "metadata": {
    "collapsed": true
   },
   "outputs": [],
   "source": [
    "def build_data(imagepaths):\n",
    "    data = []\n",
    "    for p in imagepaths:\n",
    "        label = re.search(r\"\\/([A-Z])\\/\", p).group(0)[1]\n",
    "        label = int(ord(label) - ord(\"A\"))\n",
    "        data.append((p, label))\n",
    "\n",
    "    return np.array(data, dtype=object)"
   ]
  },
  {
   "cell_type": "code",
   "execution_count": 6,
   "metadata": {
    "collapsed": true
   },
   "outputs": [],
   "source": [
    "def train_val_split(imagepaths, val_amt):\n",
    "    data = build_data(imagepaths)\n",
    "    amt = data.shape[0]\n",
    "    train = data[:int(amt*(1-val_amt))]\n",
    "    val = data[int(amt*(1-val_amt)):]\n",
    "    \n",
    "    return train, val"
   ]
  },
  {
   "cell_type": "code",
   "execution_count": 7,
   "metadata": {
    "collapsed": true
   },
   "outputs": [],
   "source": [
    "def create_tfrecord(data, type=\"train\"):\n",
    "    np.random.shuffle(data)\n",
    "    tfr_dir = \"/data/tfrecords/\"\n",
    "    if not os.path.exists(cwd + tfr_dir):\n",
    "        os.makedirs(cwd + tfr_dir)\n",
    "    tfr_filename = \"{0}.tfrecords\".format(type)\n",
    "    if os.path.isfile(cwd + tfr_dir + tfr_filename):\n",
    "        os.remove(cwd + tfr_dir + tfr_filename)\n",
    "    writer = tf.python_io.TFRecordWriter(cwd + tfr_dir + tfr_filename)\n",
    "    \n",
    "    def _bytes_feature(value):\n",
    "        return tf.train.Feature(bytes_list=tf.train.BytesList(value=[value]))\n",
    "    \n",
    "    def _int64_feature(value):\n",
    "        return tf.train.Feature(int64_list=tf.train.Int64List(value=[value]))\n",
    "    \n",
    "    for p in data:\n",
    "        feature = {\n",
    "            \"image\": _bytes_feature(tf.compat.as_bytes(p[0])),\n",
    "            \"label\": _int64_feature(p[1])\n",
    "        }\n",
    "\n",
    "        example = tf.train.Example(features=tf.train.Features(feature=feature))\n",
    "        writer.write(example.SerializeToString())\n",
    "            \n",
    "    print(tfr_filename + \" Complete\")\n",
    "    writer.close()\n",
    "    \n",
    "    return cwd + tfr_dir + tfr_filename"
   ]
  },
  {
   "cell_type": "code",
   "execution_count": 8,
   "metadata": {
    "collapsed": true
   },
   "outputs": [],
   "source": [
    "def _parse(proto):\n",
    "    features = {\"image\": tf.FixedLenFeature((), tf.string, default_value=\"\"),\n",
    "                \"label\": tf.FixedLenFeature((), tf.int64, default_value=0)}\n",
    "    parsed_features = tf.parse_single_example(proto, features)\n",
    "    image_file = tf.read_file(parsed_features[\"image\"])\n",
    "    image = tf.image.decode_image(image_file)\n",
    "    label = parsed_features[\"label\"]\n",
    "    \n",
    "    return image, label"
   ]
  },
  {
   "cell_type": "code",
   "execution_count": 9,
   "metadata": {
    "collapsed": true
   },
   "outputs": [],
   "source": [
    "def conv_layer(input, size_in, size_out, k_size, name):\n",
    "    with tf.variable_scope(name) as scope:\n",
    "        weights = tf.get_variable(\"weights\", shape=[k_size, k_size, size_in, size_out])\n",
    "        biases = tf.get_variable(\"biases\", shape=[size_out], initializer=tf.constant_initializer(0.0))\n",
    "        conv = tf.nn.conv2d(input, weights, strides=[1,1,1,1], padding=\"SAME\")\n",
    "        conv = tf.nn.bias_add(conv, biases)\n",
    "        act = tf.nn.relu(conv, scope.name)\n",
    "        \n",
    "        tf.summary.histogram(\"weights\", weights)\n",
    "        tf.summary.histogram(\"biases\", biases)\n",
    "        tf.summary.histogram(\"activations\", act)\n",
    "        \n",
    "    return act\n",
    "\n",
    "def batch_norm_layer(input, is_training, eps, name):\n",
    "    with tf.variable_scope(name) as scope:\n",
    "        gamma = tf.get_variable(\"gamma\", shape=[input.shape[0]], initializer=tf.constant_initializer(1.0))\n",
    "        beta = tf.get_variable(\"beta\", shape=[input.shape[0]], initializer=tf.constant_initializer(0.0))\n",
    "        mean, var = tf.nn.moments(input, [0,1,2])\n",
    "        ema = tf.nn.ExponentialMovingAverage(decay=0.99)\n",
    "        \n",
    "        def mean_var_with_update():\n",
    "            ema_apply_op = ema.apply([mean, var])\n",
    "            with tf.control_dependencies([ema_apply_op]):\n",
    "                return tf.identity(mean), tf.identity(var)\n",
    "            \n",
    "        mean, var = tf.cond(is_training, mean_var_with_update, lambda: (ema.average(mean), ema.average(var)))\n",
    "        bn = tf.nn.batch_normalization(input, mean, var, gamma, beta, eps)\n",
    "        \n",
    "        tf.summary.histogram(\"gamma\", gamma)\n",
    "        tf.summary.histogram(\"beta\", beta)\n",
    "        \n",
    "    return bn\n",
    "        \n",
    "def dropout_layer(input, dropout):\n",
    "    do = tf.nn.dropout(input, dropout)\n",
    "    \n",
    "    return do\n",
    "\n",
    "def maxpool_layer(input, name):\n",
    "    return tf.nn.max_pool(input, ksize=[1,2,2,1], strides=[1,2,2,1], padding=\"SAME\", name=name)\n",
    "\n",
    "def fc_layer(input, size_in, size_out, name):\n",
    "    with tf.variable_scope(name) as scope:\n",
    "        weights = tf.get_variable(\"weights\", shape=[size_in, size_out])\n",
    "        biases = tf.get_variable(\"biases\", shape=[size_out])\n",
    "        act = tf.matmul(input, weights) + biases\n",
    "        \n",
    "        tf.summary.histogram(\"weights\", weights)\n",
    "        tf.summary.histogram(\"biases\", biases)\n",
    "        tf.summary.histogram(\"activations\", act)\n",
    "        \n",
    "    return act"
   ]
  },
  {
   "cell_type": "code",
   "execution_count": 10,
   "metadata": {
    "collapsed": true
   },
   "outputs": [],
   "source": [
    "def model(X, dropout):\n",
    "    \n",
    "    tf.summary.image(\"input\", X, 10)\n",
    "\n",
    "    conv1 = conv_layer(X, 3, 64, 3, \"conv1\")\n",
    "    conv2 = conv_layer(conv1, 64, 64, 3, \"conv2\")\n",
    "    maxpool1 = maxpool_layer(conv2, \"maxpool1\")\n",
    "    conv3 = conv_layer(maxpool1, 64, 64, 3, \"conv3\")\n",
    "    conv4 = conv_layer(conv3, 64, 64, 3, \"conv4\")\n",
    "    maxpool2 = maxpool_layer(conv4, \"maxpool2\")\n",
    "    flatten = tf.reshape(maxpool2, shape=[-1, tf.reduce_prod(maxpool2.shape[1:])])\n",
    "    fc1 = fc_layer(flatten, 160000, 1024, \"fc1\")\n",
    "    dropout1 = dropout_layer(fc1, dropout)\n",
    "    fc2 = fc_layer(dropout1, dropout1.shape[1], 1024, \"fc2\")\n",
    "    dropout2 = dropout_layer(fc2, dropout)\n",
    "    fc3 = fc_layer(dropout2, dropout2.shape[1], 26, \"fc3\")\n",
    "\n",
    "    return fc3"
   ]
  },
  {
   "cell_type": "code",
   "execution_count": 11,
   "metadata": {
    "collapsed": true
   },
   "outputs": [],
   "source": [
    "def loss(logits, labels):\n",
    "    with tf.name_scope(\"loss\"):\n",
    "        labels = tf.cast(labels, tf.int64)\n",
    "        cross_entropy = tf.nn.softmax_cross_entropy_with_logits_v2(logits=logits, labels=labels)\n",
    "        cross_entropy_mean = tf.reduce_mean(cross_entropy, name=\"cross_entropy\")\n",
    "\n",
    "    tf.summary.scalar(\"cross_entropy\", cross_entropy_mean)\n",
    "        \n",
    "    return cross_entropy_mean"
   ]
  },
  {
   "cell_type": "code",
   "execution_count": 12,
   "metadata": {
    "collapsed": true
   },
   "outputs": [],
   "source": [
    "def training(loss, learning_rate):\n",
    "    with tf.name_scope(\"training\"):\n",
    "        optimizer = tf.train.AdamOptimizer(learning_rate=learning_rate)\n",
    "        global_step = tf.Variable(0, name=\"global_step\", trainable=False)\n",
    "        train_op = optimizer.minimize(loss, global_step=global_step)\n",
    "\n",
    "    return train_op"
   ]
  },
  {
   "cell_type": "code",
   "execution_count": 13,
   "metadata": {
    "collapsed": true
   },
   "outputs": [],
   "source": [
    "def evaluation(y_pred, y):\n",
    "    correct = tf.equal(tf.argmax(tf.nn.softmax(y_pred), 1), tf.argmax(y, 1))\n",
    "    accuracy = tf.reduce_mean(tf.cast(correct, tf.float32))\n",
    "    \n",
    "    tf.summary.scalar(\"accuracy\", accuracy)\n",
    "    \n",
    "    return accuracy"
   ]
  },
  {
   "cell_type": "code",
   "execution_count": 14,
   "metadata": {},
   "outputs": [],
   "source": [
    "imagepaths = get_imagepaths(\"train\")\n",
    "train, val = train_val_split(imagepaths, 0.1)\n",
    "train_filepath = tf.placeholder(tf.string, name=\"train_filepath\")\n",
    "val_filepath = tf.placeholder(tf.string, name=\"val_filepath\")\n",
    "\n",
    "train_dataset = tf.data.TFRecordDataset(train_filepath).map(_parse)\n",
    "train_dataset = train_dataset.batch(10)\n",
    "val_dataset = tf.data.TFRecordDataset(val_filepath).map(_parse)\n",
    "val_dataset = val_dataset.batch(100)\n",
    "\n",
    "train_iter = train_dataset.make_initializable_iterator()\n",
    "val_iter = val_dataset.make_initializable_iterator()\n",
    "next_train = train_iter.get_next()\n",
    "next_val = val_iter.get_next()\n",
    "\n",
    "X = tf.placeholder(tf.float32, shape=[None, 200, 200, 3], name=\"X\")\n",
    "Y = tf.placeholder(tf.int64 , shape=[None, num_classes], name=\"Y\")\n",
    "keep_prob = tf.placeholder(tf.float32, name=\"keep_prob\")\n",
    "logits = model(X, keep_prob)\n",
    "loss = loss(logits, Y)\n",
    "train_op = training(loss, 0.0001)\n",
    "accuracy = evaluation(logits, Y)"
   ]
  },
  {
   "cell_type": "code",
   "execution_count": 17,
   "metadata": {},
   "outputs": [
    {
     "name": "stdout",
     "output_type": "stream",
     "text": [
      "train.tfrecords Complete\n",
      "Epoch: 0, Loss: 199.20852661132812, Accuracy: 0.4000000059604645\n",
      "train.tfrecords Complete\n",
      "Epoch: 1, Loss: 930.8367309570312, Accuracy: 0.20000000298023224\n",
      "train.tfrecords Complete\n",
      "Epoch: 2, Loss: 409.23272705078125, Accuracy: 0.10000000149011612\n",
      "train.tfrecords Complete\n",
      "Epoch: 3, Loss: 509.79150390625, Accuracy: 0.30000001192092896\n",
      "train.tfrecords Complete\n",
      "Epoch: 4, Loss: 484.56219482421875, Accuracy: 0.10000000149011612\n",
      "train.tfrecords Complete\n",
      "Epoch: 5, Loss: 379.6321716308594, Accuracy: 0.0\n",
      "train.tfrecords Complete\n",
      "Epoch: 6, Loss: 366.2168884277344, Accuracy: 0.10000000149011612\n",
      "train.tfrecords Complete\n",
      "Epoch: 7, Loss: 316.76177978515625, Accuracy: 0.10000000149011612\n",
      "train.tfrecords Complete\n",
      "Epoch: 8, Loss: 439.8507385253906, Accuracy: 0.10000000149011612\n",
      "train.tfrecords Complete\n",
      "Epoch: 9, Loss: 334.611083984375, Accuracy: 0.10000000149011612\n"
     ]
    }
   ],
   "source": [
    "with tf.Session() as sess:\n",
    "    \n",
    "    sess.run(tf.global_variables_initializer())\n",
    "    writer = tf.summary.FileWriter(cwd + \"/checkpoints/\")\n",
    "    writer.add_graph(sess.graph)\n",
    "    summary = tf.summary.merge_all()\n",
    "\n",
    "    for e in range(10):\n",
    "        train_fp = create_tfrecord(train, \"train\")\n",
    "        sess.run(train_iter.initializer, feed_dict={train_filepath: train_fp})\n",
    "        while True:\n",
    "            try:\n",
    "                image, label = sess.run(next_train)\n",
    "                label = tf.keras.utils.to_categorical(label, num_classes)\n",
    "                sess.run(train_op, feed_dict={X: image, Y: label, keep_prob: 0.5})\n",
    "                break\n",
    "            except tf.errors.OutOfRangeError:\n",
    "                break\n",
    "        l, acc, s= sess.run([loss, accuracy, summary], feed_dict={X: image, Y: label, keep_prob: 1.0})\n",
    "        print(\"Epoch: {0}, Loss: {1}, Accuracy: {2}\".format(e, l, acc))\n",
    "        writer.add_summary(s, tf.train.get_global_step(graph=sess.graph))"
   ]
  },
  {
   "cell_type": "code",
   "execution_count": null,
   "metadata": {
    "collapsed": true
   },
   "outputs": [],
   "source": []
  }
 ],
 "metadata": {
  "kernelspec": {
   "display_name": "Python 3",
   "language": "python",
   "name": "python3"
  },
  "language_info": {
   "codemirror_mode": {
    "name": "ipython",
    "version": 3
   },
   "file_extension": ".py",
   "mimetype": "text/x-python",
   "name": "python",
   "nbconvert_exporter": "python",
   "pygments_lexer": "ipython3",
   "version": "3.6.6"
  }
 },
 "nbformat": 4,
 "nbformat_minor": 2
}
